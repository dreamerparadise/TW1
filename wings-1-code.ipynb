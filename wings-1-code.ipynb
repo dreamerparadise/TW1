{
 "cells": [
  {
   "attachments": {},
   "cell_type": "markdown",
   "metadata": {},
   "source": [
    "***1. Coin Equalization***"
   ]
  },
  {
   "cell_type": "code",
   "execution_count": 1,
   "metadata": {},
   "outputs": [
    {
     "data": {
      "text/plain": [
       "3"
      ]
     },
     "execution_count": 1,
     "metadata": {},
     "output_type": "execute_result"
    }
   ],
   "source": [
    "def coins(N,X,B):\n",
    "    X.sort()\n",
    "    count_val = 0\n",
    "    index = 0\n",
    "    if X[index] == 1:\n",
    "        return -1\n",
    "    else:\n",
    "        for i in range(index+1,len(X)):\n",
    "            while X[i] != X[index]:\n",
    "                X[i] -= B\n",
    "                count_val += 1\n",
    "    return count_val\n",
    "\n",
    "N=4 #Or any input values\n",
    "X= [2,3,2,4] #Or any input values\n",
    "B=1 #Or any input values\n",
    "\n",
    "coins(N,X,B)# function call"
   ]
  },
  {
   "attachments": {},
   "cell_type": "markdown",
   "metadata": {},
   "source": [
    "**=======================================================================================================================================================================================================================**"
   ]
  }
 ],
 "metadata": {
  "kernelspec": {
   "display_name": "base",
   "language": "python",
   "name": "python3"
  },
  "language_info": {
   "codemirror_mode": {
    "name": "ipython",
    "version": 3
   },
   "file_extension": ".py",
   "mimetype": "text/x-python",
   "name": "python",
   "nbconvert_exporter": "python",
   "pygments_lexer": "ipython3",
   "version": "3.10.9"
  },
  "orig_nbformat": 4
 },
 "nbformat": 4,
 "nbformat_minor": 2
}
